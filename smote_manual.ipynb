{
 "cells": [
  {
   "cell_type": "markdown",
   "metadata": {},
   "source": [
    "<img src = \"https://i.imgur.com/6azqPHt.png\" align = \"center\">"
   ]
  },
  {
   "cell_type": "markdown",
   "metadata": {},
   "source": [
    "### Synthetic Minority Over-sampling Technique (SMOTE) ?\n",
    "\n",
    "merupakan teknik Oversampling menyeimbangkan jumlah distribusi dataset pada kelas minoritas dengan cara mensintesis dataset minoritas hingga jumlah dataset menjadi seimbang dengan jumlah dataset pada kelas mayoritas.\n",
    "\n",
    "### Keunggulan SMOTE :\n",
    "* Menangani Over fitting\n",
    "* Memperbaiki model"
   ]
  },
  {
   "cell_type": "markdown",
   "metadata": {},
   "source": [
    "### Ilustrasi Sebelum dilakukan Synthetic Minority Over-sampling Technique (SMOTE) \n",
    "<img src = \"https://i.imgur.com/D8doW6I.png\" align = \"left\">"
   ]
  },
  {
   "cell_type": "markdown",
   "metadata": {},
   "source": [
    "### Ilustrasi Setelah dilakukan Synthetic Minority Over-sampling Technique (SMOTE) \n",
    "<img src = \"https://i.imgur.com/BfyIJac.png\" align = \"left\">"
   ]
  },
  {
   "cell_type": "code",
   "execution_count": 1,
   "metadata": {},
   "outputs": [
    {
     "data": {
      "application/vnd.jupyter.widget-view+json": {
       "model_id": "c30aab7ec1d642acb198ba7622fce006",
       "version_major": 2,
       "version_minor": 0
      },
      "text/plain": [
       "FileUploadWidget(label='Browse', _dom_classes=('widget_item', 'btn-group'))"
      ]
     },
     "metadata": {},
     "output_type": "display_data"
    },
    {
     "name": "stdout",
     "output_type": "stream",
     "text": [
      "Uploaded `ecoli1-pre.csv` (3.38 kB)\n"
     ]
    }
   ],
   "source": [
    "from IPython.display import display\n",
    "import fileupload\n",
    "\n",
    "uploader = fileupload.FileUploadWidget()\n",
    "\n",
    "def _handle_upload(change):\n",
    "    w = change['owner']\n",
    "    with open(w.filename, 'wb') as f:\n",
    "        f.write(w.data)\n",
    "    print('Uploaded `{}` ({:.2f} kB)'.format(\n",
    "        w.filename, len(w.data) / 2**10))\n",
    "\n",
    "uploader.observe(_handle_upload, names='data')\n",
    "\n",
    "display(uploader)\n",
    "    "
   ]
  },
  {
   "cell_type": "code",
   "execution_count": 7,
   "metadata": {},
   "outputs": [],
   "source": [
    "# mengambil fungsi akar\n",
    "from math import sqrt\n",
    "# mengambil fungsi random\n",
    "import random\n",
    "# memanggil library numpy\n",
    "import numpy as np\n",
    "# memanggil library pandas\n",
    "import pandas as pd\n",
    "\n",
    "import csv\n",
    "\n",
    "# mencari jarak dengan euclidean distance\n",
    "def euclidean_distance(row1, row2):\n",
    "    distance = 0.0\n",
    "    for i in range(len(row1)-1):\n",
    "        distance += (row1[i] - row2[i])**2\n",
    "    return sqrt(distance)\n",
    "\n",
    "# mencari index data berdasarkan jarak terdekat\n",
    "def get_neighbors(train, test_row, num_neighbors):\n",
    "    distances = list()\n",
    "    for train_row in train:\n",
    "        dist = euclidean_distance(test_row, train_row)\n",
    "        distances.append((train_row, dist))\n",
    "        distances.sort(key=lambda tup: tup[1])\n",
    "        neighbors = list()\n",
    "    for i in range(1, num_neighbors):\n",
    "        neighbors.append(results.index(distances[i][0]))\n",
    "    return neighbors\n",
    "\n",
    "# membuat data sintesis dari parameter X, N, k yang diinputkan\n",
    "def mysmote(X, N, k):\n",
    "    T = len(X)\n",
    "    if N < 100:\n",
    "        N = 100\n",
    "\n",
    "    N = (N / 100)\n",
    "    mat = []\n",
    "    for i in range(0, T):\n",
    "        neighbor = get_neighbors(X, X[i], k+1)\n",
    "        #print(neighbor)\n",
    "        j = random.sample(neighbor, k=int(N))\n",
    "        #print(j)\n",
    "        for l in j:\n",
    "            a = np.array(X[l])\n",
    "            b = np.array(X[i])\n",
    "            gap = np.subtract(a,b)\n",
    "            diff = gap * round(random.uniform(0.1,0.9), 2)\n",
    "            result = np.round(diff + X[i],2)\n",
    "            #np.set_printoptions(formatter={'float': '{: 0.2f}'.format})\n",
    "            #print(result)\n",
    "            mat.append(result)\n",
    "        #print(\"\\r\")\n",
    "    return mat\n",
    "        \n",
    "# dataset yang digunakan\n",
    "dataset12 = [[0.49,0.29,0.48,0.5,0.56,0.24,0.35,1],\n",
    "           [0.07,0.4,0.48,0.5,0.54,0.35,0.44,1], \n",
    "           [0.56,0.4,0.48,0.5,0.49,0.37,0.46,1],\n",
    "           [0.59,0.49,0.48,0.5,0.52,0.45,0.36,1], \n",
    "           [0.23,0.32,0.48,0.5,0.55,0.25,0.35,1],\n",
    "           [0.67,0.39,0.48,0.5,0.36,0.38,0.46,1],\n",
    "           [0.29,0.28,0.48,0.5,0.44,0.23,0.34,1]]\n",
    "\n",
    "\n",
    "\n",
    "results = []\n",
    "with open(uploader.filename) as csvfile:\n",
    "    reader = csv.reader(csvfile, quoting=csv.QUOTE_NONNUMERIC) # change contents to floats\n",
    "    for row in reader: # each row is a list\n",
    "        results.append(row)\n",
    "\n",
    "# menampilkan data sintesis baru\n",
    "smote = mysmote(results, 200, 3)\n",
    "\n",
    "# membuat file csv\n",
    "pd.DataFrame(smote).to_csv(\"smote.csv\", header=False, index=False)\n",
    "\n",
    "    "
   ]
  },
  {
   "cell_type": "code",
   "execution_count": null,
   "metadata": {},
   "outputs": [],
   "source": []
  }
 ],
 "metadata": {
  "kernelspec": {
   "display_name": "Python 3",
   "language": "python",
   "name": "python3"
  },
  "language_info": {
   "codemirror_mode": {
    "name": "ipython",
    "version": 3
   },
   "file_extension": ".py",
   "mimetype": "text/x-python",
   "name": "python",
   "nbconvert_exporter": "python",
   "pygments_lexer": "ipython3",
   "version": "3.7.4"
  }
 },
 "nbformat": 4,
 "nbformat_minor": 2
}
